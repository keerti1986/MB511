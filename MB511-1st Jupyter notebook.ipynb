{
 "cells": [
  {
   "cell_type": "code",
   "execution_count": 1,
   "id": "8e2ef31f",
   "metadata": {},
   "outputs": [
    {
     "name": "stdout",
     "output_type": "stream",
     "text": [
      "first cell\n"
     ]
    }
   ],
   "source": [
    "print('first cell')"
   ]
  },
  {
   "cell_type": "code",
   "execution_count": 2,
   "id": "c71ef717",
   "metadata": {},
   "outputs": [
    {
     "name": "stdout",
     "output_type": "stream",
     "text": [
      "second cell\n"
     ]
    }
   ],
   "source": [
    "print('second cell')"
   ]
  },
  {
   "cell_type": "code",
   "execution_count": 3,
   "id": "73c5b39c",
   "metadata": {},
   "outputs": [
    {
     "name": "stdout",
     "output_type": "stream",
     "text": [
      "third cell\n"
     ]
    }
   ],
   "source": [
    "print('third cell')"
   ]
  },
  {
   "cell_type": "code",
   "execution_count": 4,
   "id": "eefbef9c",
   "metadata": {},
   "outputs": [
    {
     "name": "stdout",
     "output_type": "stream",
     "text": [
      "i am going to create the fourth cell below\n"
     ]
    }
   ],
   "source": [
    "print('i am going to create the fourth cell below')"
   ]
  },
  {
   "cell_type": "code",
   "execution_count": 5,
   "id": "cb74d619",
   "metadata": {},
   "outputs": [
    {
     "name": "stdout",
     "output_type": "stream",
     "text": [
      "fourth cell\n"
     ]
    }
   ],
   "source": [
    "print('fourth cell')"
   ]
  }
 ],
 "metadata": {
  "kernelspec": {
   "display_name": "Python 3 (ipykernel)",
   "language": "python",
   "name": "python3"
  },
  "language_info": {
   "codemirror_mode": {
    "name": "ipython",
    "version": 3
   },
   "file_extension": ".py",
   "mimetype": "text/x-python",
   "name": "python",
   "nbconvert_exporter": "python",
   "pygments_lexer": "ipython3",
   "version": "3.11.5"
  }
 },
 "nbformat": 4,
 "nbformat_minor": 5
}
